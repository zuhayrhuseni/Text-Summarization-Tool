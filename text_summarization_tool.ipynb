{
 "cells": [
  {
   "cell_type": "code",
   "execution_count": null,
   "id": "47041016",
   "metadata": {},
   "outputs": [],
   "source": [
    "\n",
    "from transformers import pipeline\n"
   ]
  },
  {
   "cell_type": "code",
   "execution_count": null,
   "id": "34fbefeb",
   "metadata": {},
   "outputs": [],
   "source": [
    "\n",
    "# Initialize the summarization pipeline\n",
    "summarizer = pipeline(\"summarization\", model=\"facebook/bart-large-cnn\")\n",
    "\n",
    "def summarize_text(text):\n",
    "    # Ensure the text is not too long for the model\n",
    "    max_chunk_size = 1024  # Adjust based on model limits\n",
    "    if len(text) > max_chunk_size:\n",
    "        text = text[:max_chunk_size]  # Truncate the text\n",
    "\n",
    "    # Generate summary\n",
    "    summary = summarizer(text, max_length=150, min_length=40, do_sample=False)\n",
    "    return summary[0]['summary_text']\n"
   ]
  },
  {
   "cell_type": "code",
   "execution_count": null,
   "id": "3a00a9c2",
   "metadata": {},
   "outputs": [],
   "source": [
    "\n",
    "# Example text to summarize\n",
    "example_text = \"\"\"\n",
    "    For my honors project, I'm planning to tackle the challenge of developing an AI-powered text summarization tool.\n",
    "    The core objective of this project is to create a sophisticated system that can efficiently condense lengthy texts\n",
    "    into concise summaries, ensuring that the essential information and key points are retained.\n",
    "    \"\"\"\n",
    "\n",
    "# Generate summary\n",
    "summary = summarize_text(example_text)\n",
    "print(\"Summary:\", summary)\n"
   ]
  }
 ],
 "metadata": {},
 "nbformat": 4,
 "nbformat_minor": 5
}
